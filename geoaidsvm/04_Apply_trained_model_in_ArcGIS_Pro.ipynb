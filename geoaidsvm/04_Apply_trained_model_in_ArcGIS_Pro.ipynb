{
 "cells": [
  {
   "cell_type": "markdown",
   "metadata": {},
   "source": [
    "# Apply a trained land classifier model in ArcGIS Pro"
   ]
  },
  {
   "cell_type": "markdown",
   "metadata": {},
   "source": [
    "This tutorial will assume that you have already provisioned a [Geo AI Data Science Virtual Machine](http://aka.ms/dsvm/GeoAI) and are using this Jupyter notebook while connected via remote desktop on that VM. If not, please see our guide to [provisioning and connecting to a Geo AI DSVM](https://github.com/Azure/pixel_level_land_classification/blob/master/geoaidsvm/setup.md).\n",
    "\n",
    "By default, this tutorial will make use of a model we have pre-trained for 250 epochs. If you have completed the associated notebook on [training a land classifier from scratch](./02_Train_a_land_classification_model_from_scratch.ipynb), you will have the option of using your own model file."
   ]
  },
  {
   "cell_type": "markdown",
   "metadata": {},
   "source": [
    "## Setup instructions\n",
    "\n",
    "### Install any updates to ArcGIS Pro\n",
    "\n",
    "At the time of this writing, updating ArcGIS Pro will install a new Python environment for use by the program. To simplify our instructions below, we will assume that you have updated ArcGIS Pro by following these instructions:\n",
    "\n",
    "1. Search for and launch the ArcGIS Pro program.\n",
    "1. When prompted, enter your username and password.\n",
    "    - If you don't have an ArcGIS Pro license, see the instructions for getting a trial license in the [intro notebook](./01_Intro_to_pixel-level_land_classification.ipynb).)\n",
    "1. As the program loads, a software update notification may appear at upper-right.\n",
    "    - If so, click on the notification for more information. Click \"Download Now\" next to begin the software update.\n",
    "    - If the notification disappears from your screen before you have a chance to click it, navigate to Project -> About to find information on any pending software updates.\n"
   ]
  },
  {
   "cell_type": "markdown",
   "metadata": {},
   "source": [
    "### Install the supporting files\n",
    "\n",
    "If you have not already completed the associated notebook on [training a land classifier from scratch](./02_Train_a_land_classification_model_from_scratch.ipynb), execute the following cell to download supporting files to your Geo AI DSVM's D: drive."
   ]
  },
  {
   "cell_type": "code",
   "execution_count": null,
   "metadata": {
    "collapsed": true
   },
   "outputs": [],
   "source": [
    "!AzCopy /Source:https://aiforearthcollateral.blob.core.windows.net/imagesegmentationtutorial /SourceSAS:\"?st=2018-01-16T10%3A40%3A00Z&se=2028-01-17T10%3A40%3A00Z&sp=rl&sv=2017-04-17&sr=c&sig=KeEzmTaFvVo2ptu2GZQqv5mJ8saaPpeNRNPoasRS0RE%3D\" /Dest:D:\\pixellevellandclassification /S\n",
    "print('Done.')"
   ]
  },
  {
   "cell_type": "markdown",
   "metadata": {},
   "source": [
    "You will now have a local copy of a sample ArcGIS Pro project, sample trained model file, and Python wheels for CNTK and its dependencies."
   ]
  },
  {
   "cell_type": "markdown",
   "metadata": {},
   "source": [
    "### Install the custom raster function\n",
    "\n",
    "We will use Python scripts to apply a trained model to aerial imagery in real-time as the user scrolls through a region of interest in ArcGIS Pro. These Python scripts are surfaced in ArcGIS Pro as a [custom raster function](https://github.com/Esri/raster-functions). The three files needed for the raster function (the main Python script, helper functions for e.g. colorizing the model's results, and an XML description file) will be copied into the ArcGIS Pro subdirectory created with this command:"
   ]
  },
  {
   "cell_type": "code",
   "execution_count": 1,
   "metadata": {
    "collapsed": true
   },
   "outputs": [],
   "source": [
    "import shutil, glob, os\n",
    "\n",
    "dest_dir = 'C:/Program Files/ArcGIS/Pro/Resources/Raster/Functions/Custom/ClassifyCNTK'\n",
    "os.makedirs(dest_dir, exist_ok=True)\n",
    "for i in glob.iglob('D:/pixellevellandclassification/arcgispro/ClassifyCNTK/*'):\n",
    "    shutil.copy(i, dest_dir)"
   ]
  },
  {
   "cell_type": "markdown",
   "metadata": {},
   "source": [
    "### Add ArcGIS Pro's Python environment to the path\n",
    "\n",
    "At the time of this writing, ArcGIS Pro's software updates install a second Python environment containing Python 3.6. (The Geo AI DSVM's default Python environment, `py35`, then cannot be used.) We will need to add ArcGIS's python environment to the system path manually, as follows:\n",
    "\n",
    "1. Click on the Start menu and type in `Edit the system environment variables`. Click on the eponymous search result to load the \"Advanced\" tab of the System Properties window.\n",
    "1. In the window that appears, click the \"Environment Variables...\" button at lower-right.\n",
    "1. In the \"System variables\" window, select the \"PATH\" entry and click the \"Edit\" button.\n",
    "1. Click the \"New\" button. Type `C:\\Program Files\\ArcGIS\\Pro\\bin\\Python\\envs\\arcgispro-py3` into the new line, then click \"OK.\"\n",
    "1. Click \"OK\" to exit the Environment Variables window.\n",
    "1. Click \"OK\" to exit the System Properties window."
   ]
  },
  {
   "cell_type": "markdown",
   "metadata": {},
   "source": [
    "### Install necessary Python packages in ArcGIS Pro's Python environment\n",
    "\n",
    "Execute the following cell to install CNTK and its dependencies in the ArcGIS Pro Python 3.6 environment. Note that you may safely ignore any warnings regarding cache entry deserialization."
   ]
  },
  {
   "cell_type": "code",
   "execution_count": null,
   "metadata": {
    "collapsed": true,
    "scrolled": false
   },
   "outputs": [],
   "source": [
    "!\"C:\\Program Files\\ArcGIS\\Pro\\bin\\Python\\envs\\arcgispro-py3\\python.exe\" -m pip install D:\\pixellevellandclassification\\wheels\\numpy-1.14.0+mkl-cp36-cp36m-win_amd64.whl\n",
    "!\"C:\\Program Files\\ArcGIS\\Pro\\bin\\Python\\envs\\arcgispro-py3\\python.exe\" -m pip install D:\\pixellevellandclassification\\wheels\\scipy-1.0.0-cp36-cp36m-win_amd64.whl\n",
    "!\"C:\\Program Files\\ArcGIS\\Pro\\bin\\Python\\envs\\arcgispro-py3\\python.exe\" -m pip install D:\\pixellevellandclassification\\wheels\\cntk-2.0rc2-cp36-cp36m-win_amd64.whl\n",
    "print('Done.')"
   ]
  },
  {
   "cell_type": "markdown",
   "metadata": {},
   "source": [
    "## Evaluate the model in real-time using ArcGIS Pro\n",
    "\n",
    "### Load the sample project in ArcGIS Pro\n",
    "\n",
    "Begin by loading the sample ArcGIS Pro project we have provided:\n",
    "\n",
    "1. Search for and launch the ArcGIS Pro program.\n",
    "    - If ArcGIS Pro was open, restart it to ensure that all changes above are reflected when the proram loads.\n",
    "1. On the ArcGIS Pro start screen, click on \"Open an Existing Project\".\n",
    "1. Navigate to the folder where you extracted the sample project, and select the `D:\\pixellevellandclassification\\arcgispro\\sampleproject.aprx` file. Click \"OK.\"\n",
    "\n",
    "Once the project has loaded (allow ~30 seconds), you should see a screen split into four quadrants. After a moment, NAIP aerial imagery and ground-truth land use labels should beome visible in the upper-left and upper-right corners, respectively.\n",
    "\n",
    "<img src=\"https://github.com/Azure/pixel_level_land_classification/raw/master/outputs/arcgispro_finished_screenshot.png\">"
   ]
  },
  {
   "cell_type": "markdown",
   "metadata": {},
   "source": [
    "The bottom quadrants will show the model's best-guess labels (bottom right) and an average of label colors weighted by predicted probability (bottom left, providing an indication of uncertainty). If you wish to use your own trained model, or the bottom quadrants do not populate with results, you may need to add their layers manually using the following steps:"
   ]
  },
  {
   "cell_type": "markdown",
   "metadata": {},
   "source": [
    "1. Begin by selecting the \"AI Mixed Probabilities\" window at bottom-left.\n",
    "1. Add and modify an aerial imagery layer:\n",
    "    1. In the Catalog Pane (accessible from the View menu), click on Portal, then the cloud icon (labeled \"All Portal\" on hover).\n",
    "    1. In the search field, type NAIP.\n",
    "    1. Drag and drop the \"USA NAIP Imagery: Natural Color\" option into the window at bottom-left. You should see a new layer with this name appear in the Contents Pane at left.\n",
    "    1. Right-click on \"USA NAIP Imagery: Natural Color\" in the Contents Pane and select \"Properties\".\n",
    "    1. In the \"Processing Templates\" tab of the layer properties, change the Processing Template from \"Natural Color\" to \"None,\" then click OK.\n",
    "1. Add a model predictions layer:\n",
    "    1. In the Raster Functions Pane (accessible from the Analysis menu), click on the \"Custom\" option along the top.\n",
    "    1. You should see a \"[ClassifyCNTK]\" heading in the Custom section. Collapse and re-expand it to reveal an option named \"Classify\". Click this button to bring up the raster function's options.\n",
    "    1. Set the input raster to \"USA NAIP Imagery: Natural Color\".\n",
    "    1. Set the trained model location to `D:\\pixellevellandclassification\\models\\250epochs.model`.\n",
    "        - Note: if you trained your own model using our companion notebook, you can use it instead by choosing `D:\\pixellevellandclassification\\models\\trained.model` as the location.\n",
    "    1. Set the output type to \"Softmax\", indicating that each pixel's color will be an average of the class label colors, weighted by their relative probabilities.\n",
    "        - Note: selecting \"Hardmax\" will assign each pixel its most likely label's color insead.\n",
    "    1. Click \"Create new layer\". After a few seconds, the model's predictions should appear in the bottom-left quadrant.\n",
    "1. Repeat these steps with the bottom-right quadrant, selecting \"Hardmax\" as the output type."
   ]
  },
  {
   "cell_type": "markdown",
   "metadata": {},
   "source": [
    "Now that your project is complete, you can navigate and zoom in any quadrant window to compare ground truth vs. predicted labels throughout the Chesapeake Bay watershed region. If you venture outside the Chesapeake watershed, you may find that ground truth regions are no longer available, but NAIP data and model predictions should still be displayed. "
   ]
  },
  {
   "cell_type": "markdown",
   "metadata": {},
   "source": [
    "## Next steps\n",
    "\n",
    "In this notebook series, we trained and deployed a model on a Geo AI Data Science VM. To improve model accuracy, we recommend training for more epochs on a larger dataset. Please see [our GitHub repository](https://github.com/Azure/pixel_level_land_classification) for more details on scaling up training using Batch AI.\n",
    "\n",
    "When you are done using your Geo AI Data Science VM, we recommend that you stop or delete it to prevent further charges.\n",
    "\n",
    "For comments and suggestions regarding this notebook, please post a [Git issue](https://github.com/Azure/pixel_level_land_classification/issues/new) or submit a pull request in the [pixel-level land classification repository](https://github.com/Azure/pixel_level_land_classification)."
   ]
  }
 ],
 "metadata": {
  "kernelspec": {
   "display_name": "Python [conda env:py35]",
   "language": "python",
   "name": "conda-env-py35-py"
  },
  "language_info": {
   "codemirror_mode": {
    "name": "ipython",
    "version": 3
   },
   "file_extension": ".py",
   "mimetype": "text/x-python",
   "name": "python",
   "nbconvert_exporter": "python",
   "pygments_lexer": "ipython3",
   "version": "3.5.4"
  }
 },
 "nbformat": 4,
 "nbformat_minor": 2
}
