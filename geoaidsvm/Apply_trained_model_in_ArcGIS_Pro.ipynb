{
 "cells": [
  {
   "cell_type": "markdown",
   "metadata": {},
   "source": [
    "# Apply the trained model in ArcGIS Pro"
   ]
  },
  {
   "cell_type": "markdown",
   "metadata": {},
   "source": [
    "## Configure the Virtual Machine\n",
    "\n",
    "### Install updates to ArcGIS Pro\n",
    "\n",
    "1. Connect to the VM by remote desktop.\n",
    "1. Search for and launch ArcGIS Pro.\n",
    "    1. Enter your username and password. (If you don't have an ArcGIS Pro license, see the instructions for getting a trial license in the [intro notebook](Intro_to_pixel-level_land_classification.ipynb).)\n",
    "    1. When notified of the software update, click on the notification for more information. Accept and start the software update.\n",
    "    1. Once the update is complete, follow the prompted suggestion to restart ArcGIS Pro."
   ]
  },
  {
   "cell_type": "markdown",
   "metadata": {},
   "source": [
    "### Install the custom raster function and project files\n",
    "\n",
    "1. Download a copy of the model file you trained earlier to a location of your choice. (If you like, you can use the [trained model we provide](./sample_models/250epochs.model).)\n",
    "1. Download the [sample project zip file](https://aiforearthcollateral.blob.core.windows.net/temp/uc_demo1.zip) and extract it into the folder of your choice.\n",
    "1. Install the custom raster function\n",
    "\t1. Under the `C:\\Program Files\\ArcGIS\\Pro\\Resources\\Raster\\Functions` folder, add a new subfolder named `Custom`.\n",
    "\t1. Download the [CNTK customer raster function zip file](https://aiforearthcollateral.blob.core.windows.net/imagesegmentationtutorial/arcgispro/ArcGISProCustomRasterFunction.zip).\n",
    "\t1. Extract the zip file to the `C:\\Program Files\\ArcGIS\\Pro\\Resources\\Raster\\Functions\\Custom` folder.\n",
    "\n",
    "\t    Ensure that the resulting directory structure looks like `...Functions\\Custom\\cntk\\`. (Some methods for extraction will produce an extra folder in between.)"
   ]
  },
  {
   "cell_type": "markdown",
   "metadata": {},
   "source": [
    "### Set up ArcGIS's Python environment\n",
    "\n",
    "At the time of this writing, ArcGIS Pro's Python version should be 3.6 after the software update. If you find a more recent version, modify the instructions below to install the appropriate Python package versions.\n",
    "\n",
    "1. Add ArcGIS's Python environment to the system path:\n",
    "\t1. Click on the Start menu and type in `Edit the system environment variables`. Click on the eponymous search result to load the \"Advanced\" tab of the System Properties window.\n",
    "\t1. In the window that appears, click the \"Environment Variables...\" button at lower-right.\n",
    "\t1. In the \"System variables\" window, select the \"PATH\" entry and click the \"Edit\" button.\n",
    "\t1. Click the \"New\" button. Type `C:\\Program Files\\ArcGIS\\Pro\\bin\\Python\\envs\\arcgispro-py3` into the new line, then click \"OK.\"\n",
    "\t1. Click \"OK\" to exit the Environment Variables window.\n",
    "\t1. Click \"OK\" to exit the System Properties window.\n",
    "1. From Christoph Gohlke's [Windows Python binaries](https://www.lfd.uci.edu/~gohlke/pythonlibs/) site, download the following wheels:\n",
    "    - numpy‑1.14.0+mkl‑cp36‑cp36m‑win_amd64.whl (or more recent)\n",
    "    - scipy‑1.0.0‑cp36‑cp36m‑win_amd64.whl (or more recent)\n",
    "1. Click on the Start menu and type in `cmd`. Right-click on the search result named \"Command Prompt\", and select \"Run as administrator.\"\n",
    "1. Edit the commands below, inserting paths to your downloaded wheel files where indicated. Then, run the following commands in the CLI:\n",
    "\n",
    "\t```\n",
    "\t\"C:\\Program Files\\ArcGIS\\Pro\\bin\\Python\\envs\\arcgispro-py3\\python.exe\" -m pip install [path to numpy wheel]\n",
    "\t\"C:\\Program Files\\ArcGIS\\Pro\\bin\\Python\\envs\\arcgispro-py3\\python.exe\" -m pip install [path to scipy wheel]\n",
    "\t\"C:\\Program Files\\ArcGIS\\Pro\\bin\\Python\\envs\\arcgispro-py3\\python.exe\" -m pip install https://cntk.ai/PythonWheel/GPU/cntk-2.0rc2-cp36-cp36m-win_amd64.whl\n",
    "\t```\n",
    "\n",
    "## Evaluate the model using ArcGIS Pro\n",
    "\n",
    "### Load the sample project in ArcGIS Pro\n",
    "\n",
    "1. On the ArcGIS Pro start screen, click on \"Open an Existing Project\".\n",
    "1. Navigate to the folder where you extracted the sample project, and select the .aprx file. Click \"OK.\"\n",
    "\n",
    "   The project will take a moment to fully load. You will see four quadrants that eventually become populated with imagery."
   ]
  }
 ],
 "metadata": {
  "kernelspec": {
   "display_name": "Python [conda env:py35]",
   "language": "python",
   "name": "conda-env-py35-py"
  },
  "language_info": {
   "codemirror_mode": {
    "name": "ipython",
    "version": 3
   },
   "file_extension": ".py",
   "mimetype": "text/x-python",
   "name": "python",
   "nbconvert_exporter": "python",
   "pygments_lexer": "ipython3",
   "version": "3.5.4"
  }
 },
 "nbformat": 4,
 "nbformat_minor": 2
}
