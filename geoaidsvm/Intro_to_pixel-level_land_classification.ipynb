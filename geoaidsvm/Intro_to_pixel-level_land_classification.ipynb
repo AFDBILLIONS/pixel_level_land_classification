{
 "cells": [
  {
   "cell_type": "markdown",
   "metadata": {},
   "source": [
    "# Pixel-level land use classification\n",
    "\n",
    "The notebooks in this folder contain a tutorial illustrating how to create a deep neural network model that accepts an aerial image as input and returns a land cover label (forested, water, etc.) for every pixel in the image and deploy it in ESRI's [ArcGIS Pro](https://pro.arcgis.com/) software. Microsoft's [Cognitive Toolkit (CNTK)](https://www.microsoft.com/cognitive-toolkit/) is used to train and evaluate the model on an [Azure Geo AI Data Science Virtual Machine](https://docs.microsoft.com/azure/batch-ai/). The method shown here was developed in collaboration between the [Chesapeake Conservancy](http://chesapeakeconservancy.org/), [ESRI](https://www.esri.com), and [Microsoft Research](https://www.microsoft.com/research/) as part of Microsoft's [AI for Earth](https://www.microsoft.com/en-us/aiforearth) initiative.\n",
    "\n",
    "We recommend budgeting two hours for a full walkthrough of this tutorial. The code, shell commands, trained models, and sample images provided here may prove helpful even if you prefer not to complete the tutorial: we have provided explanations and direct links to these materials where possible."
   ]
  },
  {
   "cell_type": "markdown",
   "metadata": {},
   "source": [
    "## Getting started\n",
    "\n",
    "This notebook is intended for use on an [Azure Geo AI Data Science VM](). For step-by-step instructions on provisioning the VM, visit [our git repository](https://github.com/Azure/pixel_level_land_classification).\n",
    "\n",
    "1. [Train a land classification model from scratch](./Train_a_land_classification_model_from_scratch.ipynb)\n",
    "\n",
    "    In this section, you'll produce a trained CNTK model that you can use anywhere for pixel-level land cover prediction.\n",
    "    \n",
    "1. [Apply your trained model to new aerial images](./Apply_trained_model_to_new_data.ipynb)\n",
    "\n",
    "    You'll predict land use on a 1 km x 1 km region not previously seen during training, and examine your results in a full-color output file.\n",
    "    \n",
    "1. [Apply your trained model in ArcGIS Pro](./Apply_trained_model_in_ArcGIS_Pro.ipynb)\n",
    "\n",
    "    You'll apply your trained model to aerial data in real-time using ESRI's ArcGIS Pro software. (Note: requires an ArcGIS Pro license or trial.)"
   ]
  },
  {
   "cell_type": "markdown",
   "metadata": {},
   "source": [
    "## Setting up an ArcGIS Pro trial membership"
   ]
  },
  {
   "cell_type": "markdown",
   "metadata": {},
   "source": [
    "To be added; Gopi still in negotiation with ESRI over this."
   ]
  }
 ],
 "metadata": {
  "kernelspec": {
   "display_name": "Python [conda env:py35]",
   "language": "python",
   "name": "conda-env-py35-py"
  },
  "language_info": {
   "codemirror_mode": {
    "name": "ipython",
    "version": 3
   },
   "file_extension": ".py",
   "mimetype": "text/x-python",
   "name": "python",
   "nbconvert_exporter": "python",
   "pygments_lexer": "ipython3",
   "version": "3.5.4"
  }
 },
 "nbformat": 4,
 "nbformat_minor": 2
}
